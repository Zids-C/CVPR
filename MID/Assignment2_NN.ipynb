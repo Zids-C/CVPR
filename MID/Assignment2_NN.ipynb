{
  "nbformat": 4,
  "nbformat_minor": 0,
  "metadata": {
    "colab": {
      "provenance": []
    },
    "kernelspec": {
      "name": "python3",
      "display_name": "Python 3"
    },
    "language_info": {
      "name": "python"
    }
  },
  "cells": [
    {
      "cell_type": "code",
      "execution_count": 1,
      "metadata": {
        "id": "53HkCZZAg0hv"
      },
      "outputs": [],
      "source": [
        "import numpy as np\n",
        "import matplotlib.pyplot as plt\n",
        "import pandas as pd\n",
        "from google.colab import drive"
      ]
    },
    {
      "cell_type": "markdown",
      "source": [
        "Importing necessary header files  for the assignment"
      ],
      "metadata": {
        "id": "-4elVfdqhmgU"
      }
    },
    {
      "cell_type": "code",
      "source": [
        "drive.mount(\"/content/drive\")"
      ],
      "metadata": {
        "colab": {
          "base_uri": "https://localhost:8080/"
        },
        "id": "Xzaz95lYhu1i",
        "outputId": "8a7fa7bf-9958-4009-b63a-40bf0d03fab8"
      },
      "execution_count": 2,
      "outputs": [
        {
          "output_type": "stream",
          "name": "stdout",
          "text": [
            "Drive already mounted at /content/drive; to attempt to forcibly remount, call drive.mount(\"/content/drive\", force_remount=True).\n"
          ]
        }
      ]
    },
    {
      "cell_type": "code",
      "source": [
        "df = pd.read_csv(\"/content/drive/MyDrive/test_data.csv\")\n",
        "df.head(7)\n",
        "df.head(df.shape[0])"
      ],
      "metadata": {
        "colab": {
          "base_uri": "https://localhost:8080/",
          "height": 424
        },
        "id": "tWAorfEfiaJw",
        "outputId": "9b1f4100-88c2-4723-908b-fad874ae9705"
      },
      "execution_count": 3,
      "outputs": [
        {
          "output_type": "execute_result",
          "data": {
            "text/plain": [
              "      X   Y  LABEL\n",
              "0    85  48      1\n",
              "1    47  28      0\n",
              "2    16  62      2\n",
              "3    89  74      3\n",
              "4    22  17      0\n",
              "..   ..  ..    ...\n",
              "495  97  18      1\n",
              "496  91  50      3\n",
              "497  86  48      1\n",
              "498  23  70      2\n",
              "499  21  39      0\n",
              "\n",
              "[500 rows x 3 columns]"
            ],
            "text/html": [
              "\n",
              "  <div id=\"df-2c297f6e-e1e6-47cd-9760-bbd990fd3048\" class=\"colab-df-container\">\n",
              "    <div>\n",
              "<style scoped>\n",
              "    .dataframe tbody tr th:only-of-type {\n",
              "        vertical-align: middle;\n",
              "    }\n",
              "\n",
              "    .dataframe tbody tr th {\n",
              "        vertical-align: top;\n",
              "    }\n",
              "\n",
              "    .dataframe thead th {\n",
              "        text-align: right;\n",
              "    }\n",
              "</style>\n",
              "<table border=\"1\" class=\"dataframe\">\n",
              "  <thead>\n",
              "    <tr style=\"text-align: right;\">\n",
              "      <th></th>\n",
              "      <th>X</th>\n",
              "      <th>Y</th>\n",
              "      <th>LABEL</th>\n",
              "    </tr>\n",
              "  </thead>\n",
              "  <tbody>\n",
              "    <tr>\n",
              "      <th>0</th>\n",
              "      <td>85</td>\n",
              "      <td>48</td>\n",
              "      <td>1</td>\n",
              "    </tr>\n",
              "    <tr>\n",
              "      <th>1</th>\n",
              "      <td>47</td>\n",
              "      <td>28</td>\n",
              "      <td>0</td>\n",
              "    </tr>\n",
              "    <tr>\n",
              "      <th>2</th>\n",
              "      <td>16</td>\n",
              "      <td>62</td>\n",
              "      <td>2</td>\n",
              "    </tr>\n",
              "    <tr>\n",
              "      <th>3</th>\n",
              "      <td>89</td>\n",
              "      <td>74</td>\n",
              "      <td>3</td>\n",
              "    </tr>\n",
              "    <tr>\n",
              "      <th>4</th>\n",
              "      <td>22</td>\n",
              "      <td>17</td>\n",
              "      <td>0</td>\n",
              "    </tr>\n",
              "    <tr>\n",
              "      <th>...</th>\n",
              "      <td>...</td>\n",
              "      <td>...</td>\n",
              "      <td>...</td>\n",
              "    </tr>\n",
              "    <tr>\n",
              "      <th>495</th>\n",
              "      <td>97</td>\n",
              "      <td>18</td>\n",
              "      <td>1</td>\n",
              "    </tr>\n",
              "    <tr>\n",
              "      <th>496</th>\n",
              "      <td>91</td>\n",
              "      <td>50</td>\n",
              "      <td>3</td>\n",
              "    </tr>\n",
              "    <tr>\n",
              "      <th>497</th>\n",
              "      <td>86</td>\n",
              "      <td>48</td>\n",
              "      <td>1</td>\n",
              "    </tr>\n",
              "    <tr>\n",
              "      <th>498</th>\n",
              "      <td>23</td>\n",
              "      <td>70</td>\n",
              "      <td>2</td>\n",
              "    </tr>\n",
              "    <tr>\n",
              "      <th>499</th>\n",
              "      <td>21</td>\n",
              "      <td>39</td>\n",
              "      <td>0</td>\n",
              "    </tr>\n",
              "  </tbody>\n",
              "</table>\n",
              "<p>500 rows × 3 columns</p>\n",
              "</div>\n",
              "    <div class=\"colab-df-buttons\">\n",
              "\n",
              "  <div class=\"colab-df-container\">\n",
              "    <button class=\"colab-df-convert\" onclick=\"convertToInteractive('df-2c297f6e-e1e6-47cd-9760-bbd990fd3048')\"\n",
              "            title=\"Convert this dataframe to an interactive table.\"\n",
              "            style=\"display:none;\">\n",
              "\n",
              "  <svg xmlns=\"http://www.w3.org/2000/svg\" height=\"24px\" viewBox=\"0 -960 960 960\">\n",
              "    <path d=\"M120-120v-720h720v720H120Zm60-500h600v-160H180v160Zm220 220h160v-160H400v160Zm0 220h160v-160H400v160ZM180-400h160v-160H180v160Zm440 0h160v-160H620v160ZM180-180h160v-160H180v160Zm440 0h160v-160H620v160Z\"/>\n",
              "  </svg>\n",
              "    </button>\n",
              "\n",
              "  <style>\n",
              "    .colab-df-container {\n",
              "      display:flex;\n",
              "      gap: 12px;\n",
              "    }\n",
              "\n",
              "    .colab-df-convert {\n",
              "      background-color: #E8F0FE;\n",
              "      border: none;\n",
              "      border-radius: 50%;\n",
              "      cursor: pointer;\n",
              "      display: none;\n",
              "      fill: #1967D2;\n",
              "      height: 32px;\n",
              "      padding: 0 0 0 0;\n",
              "      width: 32px;\n",
              "    }\n",
              "\n",
              "    .colab-df-convert:hover {\n",
              "      background-color: #E2EBFA;\n",
              "      box-shadow: 0px 1px 2px rgba(60, 64, 67, 0.3), 0px 1px 3px 1px rgba(60, 64, 67, 0.15);\n",
              "      fill: #174EA6;\n",
              "    }\n",
              "\n",
              "    .colab-df-buttons div {\n",
              "      margin-bottom: 4px;\n",
              "    }\n",
              "\n",
              "    [theme=dark] .colab-df-convert {\n",
              "      background-color: #3B4455;\n",
              "      fill: #D2E3FC;\n",
              "    }\n",
              "\n",
              "    [theme=dark] .colab-df-convert:hover {\n",
              "      background-color: #434B5C;\n",
              "      box-shadow: 0px 1px 3px 1px rgba(0, 0, 0, 0.15);\n",
              "      filter: drop-shadow(0px 1px 2px rgba(0, 0, 0, 0.3));\n",
              "      fill: #FFFFFF;\n",
              "    }\n",
              "  </style>\n",
              "\n",
              "    <script>\n",
              "      const buttonEl =\n",
              "        document.querySelector('#df-2c297f6e-e1e6-47cd-9760-bbd990fd3048 button.colab-df-convert');\n",
              "      buttonEl.style.display =\n",
              "        google.colab.kernel.accessAllowed ? 'block' : 'none';\n",
              "\n",
              "      async function convertToInteractive(key) {\n",
              "        const element = document.querySelector('#df-2c297f6e-e1e6-47cd-9760-bbd990fd3048');\n",
              "        const dataTable =\n",
              "          await google.colab.kernel.invokeFunction('convertToInteractive',\n",
              "                                                    [key], {});\n",
              "        if (!dataTable) return;\n",
              "\n",
              "        const docLinkHtml = 'Like what you see? Visit the ' +\n",
              "          '<a target=\"_blank\" href=https://colab.research.google.com/notebooks/data_table.ipynb>data table notebook</a>'\n",
              "          + ' to learn more about interactive tables.';\n",
              "        element.innerHTML = '';\n",
              "        dataTable['output_type'] = 'display_data';\n",
              "        await google.colab.output.renderOutput(dataTable, element);\n",
              "        const docLink = document.createElement('div');\n",
              "        docLink.innerHTML = docLinkHtml;\n",
              "        element.appendChild(docLink);\n",
              "      }\n",
              "    </script>\n",
              "  </div>\n",
              "\n",
              "\n",
              "<div id=\"df-a92121e6-e9ea-4109-a3af-beb2e390bcbc\">\n",
              "  <button class=\"colab-df-quickchart\" onclick=\"quickchart('df-a92121e6-e9ea-4109-a3af-beb2e390bcbc')\"\n",
              "            title=\"Suggest charts\"\n",
              "            style=\"display:none;\">\n",
              "\n",
              "<svg xmlns=\"http://www.w3.org/2000/svg\" height=\"24px\"viewBox=\"0 0 24 24\"\n",
              "     width=\"24px\">\n",
              "    <g>\n",
              "        <path d=\"M19 3H5c-1.1 0-2 .9-2 2v14c0 1.1.9 2 2 2h14c1.1 0 2-.9 2-2V5c0-1.1-.9-2-2-2zM9 17H7v-7h2v7zm4 0h-2V7h2v10zm4 0h-2v-4h2v4z\"/>\n",
              "    </g>\n",
              "</svg>\n",
              "  </button>\n",
              "\n",
              "<style>\n",
              "  .colab-df-quickchart {\n",
              "      --bg-color: #E8F0FE;\n",
              "      --fill-color: #1967D2;\n",
              "      --hover-bg-color: #E2EBFA;\n",
              "      --hover-fill-color: #174EA6;\n",
              "      --disabled-fill-color: #AAA;\n",
              "      --disabled-bg-color: #DDD;\n",
              "  }\n",
              "\n",
              "  [theme=dark] .colab-df-quickchart {\n",
              "      --bg-color: #3B4455;\n",
              "      --fill-color: #D2E3FC;\n",
              "      --hover-bg-color: #434B5C;\n",
              "      --hover-fill-color: #FFFFFF;\n",
              "      --disabled-bg-color: #3B4455;\n",
              "      --disabled-fill-color: #666;\n",
              "  }\n",
              "\n",
              "  .colab-df-quickchart {\n",
              "    background-color: var(--bg-color);\n",
              "    border: none;\n",
              "    border-radius: 50%;\n",
              "    cursor: pointer;\n",
              "    display: none;\n",
              "    fill: var(--fill-color);\n",
              "    height: 32px;\n",
              "    padding: 0;\n",
              "    width: 32px;\n",
              "  }\n",
              "\n",
              "  .colab-df-quickchart:hover {\n",
              "    background-color: var(--hover-bg-color);\n",
              "    box-shadow: 0 1px 2px rgba(60, 64, 67, 0.3), 0 1px 3px 1px rgba(60, 64, 67, 0.15);\n",
              "    fill: var(--button-hover-fill-color);\n",
              "  }\n",
              "\n",
              "  .colab-df-quickchart-complete:disabled,\n",
              "  .colab-df-quickchart-complete:disabled:hover {\n",
              "    background-color: var(--disabled-bg-color);\n",
              "    fill: var(--disabled-fill-color);\n",
              "    box-shadow: none;\n",
              "  }\n",
              "\n",
              "  .colab-df-spinner {\n",
              "    border: 2px solid var(--fill-color);\n",
              "    border-color: transparent;\n",
              "    border-bottom-color: var(--fill-color);\n",
              "    animation:\n",
              "      spin 1s steps(1) infinite;\n",
              "  }\n",
              "\n",
              "  @keyframes spin {\n",
              "    0% {\n",
              "      border-color: transparent;\n",
              "      border-bottom-color: var(--fill-color);\n",
              "      border-left-color: var(--fill-color);\n",
              "    }\n",
              "    20% {\n",
              "      border-color: transparent;\n",
              "      border-left-color: var(--fill-color);\n",
              "      border-top-color: var(--fill-color);\n",
              "    }\n",
              "    30% {\n",
              "      border-color: transparent;\n",
              "      border-left-color: var(--fill-color);\n",
              "      border-top-color: var(--fill-color);\n",
              "      border-right-color: var(--fill-color);\n",
              "    }\n",
              "    40% {\n",
              "      border-color: transparent;\n",
              "      border-right-color: var(--fill-color);\n",
              "      border-top-color: var(--fill-color);\n",
              "    }\n",
              "    60% {\n",
              "      border-color: transparent;\n",
              "      border-right-color: var(--fill-color);\n",
              "    }\n",
              "    80% {\n",
              "      border-color: transparent;\n",
              "      border-right-color: var(--fill-color);\n",
              "      border-bottom-color: var(--fill-color);\n",
              "    }\n",
              "    90% {\n",
              "      border-color: transparent;\n",
              "      border-bottom-color: var(--fill-color);\n",
              "    }\n",
              "  }\n",
              "</style>\n",
              "\n",
              "  <script>\n",
              "    async function quickchart(key) {\n",
              "      const quickchartButtonEl =\n",
              "        document.querySelector('#' + key + ' button');\n",
              "      quickchartButtonEl.disabled = true;  // To prevent multiple clicks.\n",
              "      quickchartButtonEl.classList.add('colab-df-spinner');\n",
              "      try {\n",
              "        const charts = await google.colab.kernel.invokeFunction(\n",
              "            'suggestCharts', [key], {});\n",
              "      } catch (error) {\n",
              "        console.error('Error during call to suggestCharts:', error);\n",
              "      }\n",
              "      quickchartButtonEl.classList.remove('colab-df-spinner');\n",
              "      quickchartButtonEl.classList.add('colab-df-quickchart-complete');\n",
              "    }\n",
              "    (() => {\n",
              "      let quickchartButtonEl =\n",
              "        document.querySelector('#df-a92121e6-e9ea-4109-a3af-beb2e390bcbc button');\n",
              "      quickchartButtonEl.style.display =\n",
              "        google.colab.kernel.accessAllowed ? 'block' : 'none';\n",
              "    })();\n",
              "  </script>\n",
              "</div>\n",
              "\n",
              "    </div>\n",
              "  </div>\n"
            ],
            "application/vnd.google.colaboratory.intrinsic+json": {
              "type": "dataframe",
              "variable_name": "df",
              "summary": "{\n  \"name\": \"df\",\n  \"rows\": 500,\n  \"fields\": [\n    {\n      \"column\": \"X\",\n      \"properties\": {\n        \"dtype\": \"number\",\n        \"std\": 28,\n        \"min\": 0,\n        \"max\": 100,\n        \"num_unique_values\": 101,\n        \"samples\": [\n          75,\n          0,\n          71\n        ],\n        \"semantic_type\": \"\",\n        \"description\": \"\"\n      }\n    },\n    {\n      \"column\": \"Y\",\n      \"properties\": {\n        \"dtype\": \"number\",\n        \"std\": 28,\n        \"min\": 0,\n        \"max\": 100,\n        \"num_unique_values\": 100,\n        \"samples\": [\n          25,\n          23,\n          49\n        ],\n        \"semantic_type\": \"\",\n        \"description\": \"\"\n      }\n    },\n    {\n      \"column\": \"LABEL\",\n      \"properties\": {\n        \"dtype\": \"number\",\n        \"std\": 1,\n        \"min\": 0,\n        \"max\": 3,\n        \"num_unique_values\": 4,\n        \"samples\": [\n          0,\n          3,\n          1\n        ],\n        \"semantic_type\": \"\",\n        \"description\": \"\"\n      }\n    }\n  ]\n}"
            }
          },
          "metadata": {},
          "execution_count": 3
        }
      ]
    },
    {
      "cell_type": "markdown",
      "source": [
        "Checking if data is ready for use or not"
      ],
      "metadata": {
        "id": "N_bDFKZ8lKTF"
      }
    },
    {
      "cell_type": "code",
      "source": [
        "def norm(input):\n",
        "  if input == 0:\n",
        "    return [1, 0, 0, 0]\n",
        "  elif input == 1:\n",
        "    return [0, 1, 0, 0]\n",
        "  elif input == 2:\n",
        "    return [0, 0, 1, 0]\n",
        "  elif input == 3:\n",
        "    return [0, 0, 0, 1]\n",
        "\n",
        "x = df[\"X\"].values.tolist()\n",
        "y = df[\"Y\"].values.tolist()\n",
        "label = df[\"LABEL\"].values.tolist()"
      ],
      "metadata": {
        "id": "UcBKfngjlS7k"
      },
      "execution_count": 4,
      "outputs": []
    },
    {
      "cell_type": "markdown",
      "source": [
        "Defined a funtion to normalise data and declared variable to store X,Y,LABEL from csv file"
      ],
      "metadata": {
        "id": "M55JsSmCnBNs"
      }
    },
    {
      "cell_type": "code",
      "source": [
        "for i in range (len(label)):\n",
        "  if label[i] == 0:\n",
        "    plt.plot(x[i], y[i], c='green', marker = \"o\")\n",
        "  elif label[i] == 1:\n",
        "    plt.plot(x[i], y[i], c='cyan', marker = \"*\")\n",
        "  elif label[i] == 2:\n",
        "    plt.plot(x[i], y[i], c='red', marker = \"+\")\n",
        "  else:\n",
        "    plt.plot(x[i], y[i], c='purple', marker = \"x\")\n",
        "\n",
        "plt.show()"
      ],
      "metadata": {
        "colab": {
          "base_uri": "https://localhost:8080/",
          "height": 430
        },
        "id": "VOxC9yGGnTH7",
        "outputId": "a4fdaeea-5d28-4aa2-98a4-51dd92c1e351"
      },
      "execution_count": 5,
      "outputs": [
        {
          "output_type": "display_data",
          "data": {
            "text/plain": [
              "<Figure size 640x480 with 1 Axes>"
            ],
            "image/png": "[encoded data removed]"
          },
          "metadata": {}
        }
      ]
    },
    {
      "cell_type": "markdown",
      "source": [
        "Visualizasion of the dataset we have for all four classes"
      ],
      "metadata": {
        "id": "uVQNoy3ts9Kq"
      }
    },
    {
      "cell_type": "code",
      "source": [
        "ft = list(zip(x,y))\n",
        "np_ft = np.array(ft)\n",
        "label_norm = np.array([norm(i) for i in label])\n",
        "ft_train = np_ft[:450]\n",
        "ft_test = np_ft[450:]\n",
        "\n",
        "\n",
        "label_norm_train =  label_norm[:450]\n",
        "label_norm_test = label_norm[450:]"
      ],
      "metadata": {
        "id": "KcQhaOTatGsx"
      },
      "execution_count": 6,
      "outputs": []
    },
    {
      "cell_type": "markdown",
      "source": [
        "Spliting the datas for training and testing purpose.\n",
        "Here the first 450 data was taken for training purpose and rest 50 data was taken for testing purpose.\n"
      ],
      "metadata": {
        "id": "bdazu_ZS7VdU"
      }
    },
    {
      "cell_type": "code",
      "source": [
        "class n_net(object):\n",
        "\n",
        "  def __init__(self, activation_type: str = \"sigmoid\"):\n",
        "    input_neurons = 2\n",
        "    h_l1_neurons = 7\n",
        "    h_l2_neurons = 10\n",
        "    h_l3_neurons = 10\n",
        "    h_l4_neurons = 7\n",
        "    output_neurons = 4\n",
        "    self.lr = 0.05\n",
        "\n",
        "    self.activation_type = activation_type\n",
        "\n",
        "    self.W_in_to_H1 = np.random.randn(input_neurons,h_l1_neurons)\n",
        "\n",
        "    self.W_H1_to_H2 = np.random.randn(h_l1_neurons,h_l2_neurons)\n",
        "\n",
        "    self.W_H2_to_H3 = np.random.randn(h_l2_neurons,h_l3_neurons)\n",
        "\n",
        "    self.W_H3_to_H4 = np.random.randn(h_l3_neurons,h_l4_neurons)\n",
        "\n",
        "    self.W_H4_to_out = np.random.randn(h_l4_neurons,output_neurons)\n",
        "\n",
        "\n",
        "\n",
        "  def activation(self, x, d = False):\n",
        "        if self.activation_type == 'sigmoid':\n",
        "            if d == True:\n",
        "                return x * (1 - x)\n",
        "            else:\n",
        "                return 1 / (1 + np.exp(-x))\n",
        "\n",
        "        if self.activation_type == \"tanh\":\n",
        "            if d == True:\n",
        "                return 1 - (np.tanh(x))**2\n",
        "            else:\n",
        "                return np.tanh(x)\n",
        "\n",
        "        if self.activation_type == \"relu\":\n",
        "            if d == True:\n",
        "                return np.where(x > 0, 1, 0)\n",
        "            else:\n",
        "                return np.maximum(0, x)\n",
        "\n",
        "        if self.activation_type == \"elu\":\n",
        "          alpha = 1\n",
        "          if d == True:\n",
        "\n",
        "            return np.where(x > 0, 1, alpha * np.exp(x))\n",
        "          else:\n",
        "            return np.where(x > 0, x, alpha * (np.exp(x) - 1))\n",
        "\n",
        "  def feed_forward(self, val):\n",
        "      h1_in = np.dot(val, self.W_in_to_H1)\n",
        "      self.h1_out = self.activation(h1_in)\n",
        "\n",
        "      h2_in = np.dot(self.h1_out, self.W_H1_to_H2)\n",
        "      self.h2_out = self.activation(h2_in)\n",
        "\n",
        "      h3_in = np.dot(self.h2_out, self.W_H2_to_H3)\n",
        "      self.h3_out = self.activation(h3_in)\n",
        "\n",
        "      h4_in = np.dot(self.h3_out, self.W_H3_to_H4)\n",
        "      self.h4_out = self.activation(h4_in)\n",
        "\n",
        "      out_in = np.dot(self.h4_out, self.W_H4_to_out)\n",
        "\n",
        "      pred = self.activation(out_in)\n",
        "\n",
        "      return pred\n",
        "\n",
        "  def back_propagation(self, x, y, pred):\n",
        "      y = np.array(y)\n",
        "      pred = np.array(pred)\n",
        "\n",
        "      out_theta = self.lr * (y-pred) * self.activation(pred, d = True)\n",
        "      h4_theta = self.lr * (out_theta.dot(self.W_H4_to_out.T)) * self.activation(self.h4_out, d =True)\n",
        "      h3_theta = self.lr * (h4_theta.dot(self.W_H3_to_H4.T)) * self.activation(self.h3_out, d =True)\n",
        "      h2_theta = self.lr * (h3_theta.dot(self.W_H2_to_H3.T)) * self.activation(self.h2_out, d =True)\n",
        "      h1_theta = self.lr * (h2_theta.dot(self.W_H1_to_H2.T)) * self.activation(self.h1_out, d =True)\n",
        "\n",
        "      self.W_in_to_H1 += x.T.dot(h1_theta)\n",
        "      self.W_H1_to_H2 += self.h1_out.T.dot(h2_theta)\n",
        "      self.W_H2_to_H3 += self.h2_out.T.dot(h3_theta)\n",
        "      self.W_H3_to_H4 += self.h3_out.T.dot(h4_theta)\n",
        "      self.W_H4_to_out += self.h4_out.T.dot(out_theta)\n",
        "\n",
        "\n",
        "  def train(self, x, y):\n",
        "      self.back_propagation(x, y, self.feed_forward(x))\n",
        "\n",
        "\n"
      ],
      "metadata": {
        "id": "wqr8UVAI73LZ"
      },
      "execution_count": 7,
      "outputs": []
    },
    {
      "cell_type": "markdown",
      "source": [
        "A class of neural network was created . It has a function of activation functions, a function of feed forward and a function of back propagation. We will be using one input layer of 2 neurons, 4 hidden layers containing 5, 7, 7, 5 neurons and one output layer containing 3 neurons."
      ],
      "metadata": {
        "id": "LmGhN9VCk3tf"
      }
    },
    {
      "cell_type": "code",
      "source": [
        "run = n_net(activation_type=\"sigmoid\")\n",
        "\n",
        "err_list= []\n",
        "\n",
        "for i in range(200000):\n",
        "  run.train(ft_train, label_norm_train)\n",
        "  err = np.mean(np.square(label_norm_train-run.feed_forward(ft_train)))\n",
        "\n",
        "  if i % 10000 == 0:\n",
        "      err_list.append(err)\n",
        "      print(f'Epoch: {i}, error: {err}')\n",
        "\n",
        "plt.plot(err_list)\n",
        "plt.show()\n",
        ""
      ],
      "metadata": {
        "colab": {
          "base_uri": "https://localhost:8080/",
          "height": 777
        },
        "id": "XGF2_VNmmGTo",
        "outputId": "f35b3305-8211-4114-92a1-45a503c85f81"
      },
      "execution_count": 10,
      "outputs": [
        {
          "output_type": "stream",
          "name": "stdout",
          "text": [
            "Epoch: 0, error: 0.22350803366291289\n",
            "Epoch: 10000, error: 0.10300462529087256\n",
            "Epoch: 20000, error: 0.09845907623635501\n",
            "Epoch: 30000, error: 0.07422115623614303\n",
            "Epoch: 40000, error: 0.05123587923209844\n",
            "Epoch: 50000, error: 0.03139175536370402\n",
            "Epoch: 60000, error: 0.017395551936934074\n",
            "Epoch: 70000, error: 0.007866376166876249\n",
            "Epoch: 80000, error: 0.014697444709953461\n",
            "Epoch: 90000, error: 0.008087766267417406\n",
            "Epoch: 100000, error: 0.008618697404379065\n",
            "Epoch: 110000, error: 0.0037336744113273678\n",
            "Epoch: 120000, error: 0.004166088478302196\n",
            "Epoch: 130000, error: 0.006748976355522414\n",
            "Epoch: 140000, error: 0.010096690243697951\n",
            "Epoch: 150000, error: 0.0037728604872586243\n",
            "Epoch: 160000, error: 0.0021564664810385056\n",
            "Epoch: 170000, error: 0.005984947538292074\n",
            "Epoch: 180000, error: 0.010486843724126293\n",
            "Epoch: 190000, error: 0.0028800077850427157\n"
          ]
        },
        {
          "output_type": "display_data",
          "data": {
            "text/plain": [
              "<Figure size 640x480 with 1 Axes>"
            ],
            "image/png": "[encoded data removed]"
          },
          "metadata": {}
        }
      ]
    }
  ]
}